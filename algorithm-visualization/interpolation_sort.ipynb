{
 "cells": [
  {
   "cell_type": "markdown",
   "metadata": {},
   "source": [
    "## Interpolation Sort\n",
    "\n",
    "**Two differences betwen *Binary Search* and *Interpolation Search* are:**\n",
    "\n",
    "1. Uniform distribution of elements\n",
    "2. Lots of it\n",
    "\n",
    "$$\n",
    "\\text{mid} = \\text{low} + \\left( \\frac{\\text{target} - \\text{arr[low]}}{\\text{arr[high]} - \\text{arr[low]}} \\right) \\times (\\text{high} - \\text{low})\n",
    "$$"
   ]
  },
  {
   "cell_type": "markdown",
   "metadata": {},
   "source": [
    "\n",
    "Array[0...9999], key range 5...95,000, target = 85,000\n",
    "\n",
    "First probe:\n",
    "\n",
    "$$\n",
    "\\text{mid} = 0 + \\left( \\frac{85,000 - 0}{95,000 - 5} \\right) \\times (9,999 - 0) = 8,946\n",
    "$$\n",
    "\n",
    "At `Array[8,946]` we have `86,500` $\\rightarrow$ Change `high = 8,946 - 1`\n",
    "\n",
    "Second probe:\n",
    "\n",
    "$$\n",
    "\\text{mid} = 0 + \\left( \\frac{85,000 - 0}{86,500 - 5} \\right) \\times (8,945 - 0) = 8,790\n",
    "$$\n",
    "\n",
    "$\\ldots$ Continue"
   ]
  },
  {
   "cell_type": "code",
   "execution_count": null,
   "metadata": {},
   "outputs": [],
   "source": [
    "import numpy\n",
    "\n",
    "arr_size = 9999\n",
    "ran_list = numpy.random.randint(1, 100, arr_size).tolist()\n",
    "\n",
    "print(len(ran_list))\n",
    "\n",
    "def interpolation_sort(low: int, high: int, arr: list):\n",
    "    if low < high:\n",
    "        mid = low + ((high - low) // (arr[high] - arr[low])) * (arr[high] - arr[low])\n",
    "        interpolation_sort(low, mid, arr)\n",
    "        interpolation_sort(mid + 1, high, arr)\n",
    "        return arr\n",
    "    \n",
    "print(interpolation_sort(0, len(ran_list) - 1, ran_list))\n"
   ]
  },
  {
   "cell_type": "markdown",
   "metadata": {},
   "source": [
    "### Complexity\n",
    "\n",
    "#### Operations\n",
    "\n",
    "- Best: $O(1)$\n",
    "- Worst: $O(n)$\n",
    "  - Needs really badly-distributed elements\n",
    "- Average: $O(\\log \\log n)$\n",
    "  - Analysis is not trivial"
   ]
  }
 ],
 "metadata": {
  "language_info": {
   "name": "python"
  }
 },
 "nbformat": 4,
 "nbformat_minor": 2
}
